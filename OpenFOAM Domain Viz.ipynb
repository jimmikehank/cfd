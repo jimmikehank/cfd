{
 "cells": [
  {
   "cell_type": "code",
   "execution_count": 1,
   "id": "a83339d6",
   "metadata": {},
   "outputs": [
    {
     "data": {
      "image/png": "[encoded data removed]",
      "text/plain": [
       "<Figure size 432x288 with 1 Axes>"
      ]
     },
     "metadata": {
      "needs_background": "light"
     },
     "output_type": "display_data"
    }
   ],
   "source": [
    "import numpy as np\n",
    "\n",
    "points = np.zeros((19,2))\n",
    "points[0,:] = [0.5, 0]  #19\n",
    "points[1,:] = [1, 0] #20\n",
    "points[2,:] = [2, 0] #21\n",
    "points[3,:] = [2, np.sqrt(2)/2] #22\n",
    "points[4,:] = [np.sqrt(2)/2, np.sqrt(2)/2] #23\n",
    "points[5,:] = [np.sqrt(2)/4, np.sqrt(2)/4] #24\n",
    "points[6,:] = [2, 2] #25\n",
    "points[7,:] = [np.sqrt(2)/2, 2] #26\n",
    "points[8,:] = [0, 2] #27\n",
    "points[9,:] = [0, 1] #28\n",
    "points[10,:] = [0, 0.5] #29\n",
    "points[11,:] = [-0.5, 0] #30\n",
    "points[12,:] = [-1, 0] #31\n",
    "points[13,:] = [-2, 0] #32\n",
    "points[14,:] = [-2, np.sqrt(2)/2] #33\n",
    "points[15,:] = [-np.sqrt(2)/2, np.sqrt(2)/2] #34\n",
    "points[16,:] = [-np.sqrt(2)/4, np.sqrt(2)/4] #35\n",
    "points[17,:] = [-2, 2] #36\n",
    "points[18,:] = [-np.sqrt(2)/2,2] #37\n",
    "\n",
    "import matplotlib.pyplot as plt\n",
    "plt.scatter(points[:,0],points[:,1])\n",
    "plt.gca().set_aspect(\"equal\")"
   ]
  },
  {
   "cell_type": "code",
   "execution_count": null,
   "id": "a88c9f74",
   "metadata": {},
   "outputs": [],
   "source": [
    "verts= np.zeros((16,2))\n",
    "verts[0] = [-10, -10]\n",
    "\n",
    "\n",
    "\n"
   ]
  }
 ],
 "metadata": {
  "kernelspec": {
   "display_name": "Python 3 (ipykernel)",
   "language": "python",
   "name": "python3"
  },
  "language_info": {
   "codemirror_mode": {
    "name": "ipython",
    "version": 3
   },
   "file_extension": ".py",
   "mimetype": "text/x-python",
   "name": "python",
   "nbconvert_exporter": "python",
   "pygments_lexer": "ipython3",
   "version": "3.8.10"
  }
 },
 "nbformat": 4,
 "nbformat_minor": 5
}
