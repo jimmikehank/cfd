{
 "cells": [
  {
   "cell_type": "markdown",
   "id": "3d4152dc",
   "metadata": {},
   "source": [
    "### Data handling for sensor location optimization\n"
   ]
  },
  {
   "cell_type": "code",
   "execution_count": 1,
   "id": "8bb64c6f",
   "metadata": {},
   "outputs": [],
   "source": [
    "# dirs variable will contain numerical address of each VTK\n",
    "\n",
    "\n",
    "# Point extract will take a single case and export the wing's <x, y> \n",
    "# coordinates and the pressure data of those coordinates\n",
    "\n",
    "def pointExtract(caseName, wingName):\n",
    "    \n",
    "    import pyvista as vtki\n",
    "    import numpy as np\n",
    "    \n",
    "    # Import raw point data for full grid and wing and convert cell data to point data\n",
    "    grid = vtki.UnstructuredGrid(caseName)\n",
    "    wing = vtki.PolyData(wingName)\n",
    "    grid = grid.cell_data_to_point_data()\n",
    "    \n",
    "    # Isolate pressure data from full grid\n",
    "    p_raw = grid['p']\n",
    "    \n",
    "    # Isolate <x, y> point data from full grid, and just wing\n",
    "    pts = grid.points\n",
    "    wingpts = wing.points\n",
    "\n",
    "    # Initialize indexing variables\n",
    "    selection = np.zeros(np.shape(pts)[0])\n",
    "    sel2 = np.zeros(np.shape(wingpts)[0])\n",
    "\n",
    "    # Two for loops used to remove coordinates outside of single plane\n",
    "    \n",
    "    for i in range(np.shape(pts)[0]):\n",
    "        if pts[i,2] == .25:\n",
    "            selection[i] = i\n",
    "\n",
    "    for i in range(np.shape(wingpts)[0]):\n",
    "        if wingpts[i,2] == .25:\n",
    "            sel2[i] = i\n",
    "            \n",
    "    gridind = np.nonzero(selection)        \n",
    "    wingind = np.nonzero(sel2)\n",
    "\n",
    "    p = p_raw[gridind]\n",
    "    pts = np.squeeze(pts[gridind,0:2])\n",
    "    wingpts = np.squeeze(wingpts[wingind,0:2])\n",
    "    \n",
    "    # Small data control to get pressure data using wing coordinates, \n",
    "    # isolates wing pressure data\n",
    "    \n",
    "    nrows, ncols = pts.shape\n",
    "    dtype={'names':['f{}'.format(i) for i in range(ncols)],\n",
    "           'formats':ncols * [pts.dtype]}\n",
    "\n",
    "    wingindex = np.in1d(pts.view(dtype), wingpts.view(dtype))\n",
    "\n",
    "    pwing = p[wingindex]\n",
    "    \n",
    "    return wingindex, pwing, wingpts\n",
    "\n",
    "def cosamp(Phi,u,K,tol,maxiter):\n",
    "    import numpy as np\n",
    "    from numpy import linalg as la\n",
    "    Sest = np.zeros([np.shape(Phi)[0],1])\n",
    "    v = u\n",
    "    t = 1\n",
    "    numericalprecision = 1e-12\n",
    "    T = []\n",
    "    while (t<=maxiter) and (la.norm(v)/la.norm(u)>tol):\n",
    "        y = np.abs(np.dot(Phi.T,v))\n",
    "        vals = -np.sort(-y,axis=0)\n",
    "        Omega = np.where((y >= vals[2*K-1]) * (y > numericalprecision))\n",
    "        T = np.union1d(Omega,T)\n",
    "        b = np.dot(la.pinv(Phi[:,T.astype(int)]),u)\n",
    "        vals = -np.sort(-abs(b))\n",
    "        Kgoodindices = (abs(b) >= vals[K])*(abs(b) > numericalprecision)\n",
    "        T = T[Kgoodindices[:,0]]\n",
    "        \n",
    "        Sest = np.zeros([np.shape(Phi)[1],1])\n",
    "        b = b[Kgoodindices[:,0]]\n",
    "        Sest[T.astype(int)] = b\n",
    "        v = u - np.dot(Phi[:,T.astype(int)],b)\n",
    "        t = t+1;\n",
    "        \n",
    "    return Sest\n",
    "        \n",
    "# arrangeWing takes the coordinates provided along with the angle of attack, and rotates the system\n",
    "# then sorts it into top and bottom going from left to right.\n",
    "        \n",
    "def arrangeWing(points,alpha,offset,pressure):\n",
    "    alpha = np.pi*alpha/180\n",
    "    R = np.array([[np.cos(alpha), np.sin(alpha)],[-np.sin(alpha),np.cos(alpha)]])\n",
    "    ptst = points - offset\n",
    "    pts_new = np.matmul(ptst,R)\n",
    "    \n",
    "    pts_chordwise = pts_new[np.argsort(pts_new,0)[:,0]]\n",
    "    index_upper = pts_chordwise[:,1]>0\n",
    "    points_upper = pts_chordwise[index_upper,:]\n",
    "    points_lower = pts_chordwise[np.invert(index_upper),:]\n",
    "    Parrange = pressure[np.argsort(pts_new,0)[:,0]]\n",
    "    Pu = Parrange[index_upper]\n",
    "    Pl = Parrange[np.invert(index_upper)]\n",
    "    \n",
    "    return points_upper, points_lower, Pu, Pl\n",
    "\n",
    "# angleExtract just parses the filename string for the angle of each case and returns that angle\n",
    "# ASSUMES NAMING STRUCTURE: <angle>_deg.vtk example: 14.0_deg.vtk\n",
    "\n",
    "def angleExtract(filename):\n",
    "    x = filename\n",
    "    for i in range(len(x)):\n",
    "        if x[i] == '_':\n",
    "            angle = x[0:i]\n",
    "            break\n",
    "        else:\n",
    "            pass\n",
    "    angle = float(angle)\n",
    "    return angle"
   ]
  },
  {
   "cell_type": "code",
   "execution_count": 3,
   "id": "b29e563e",
   "metadata": {},
   "outputs": [
    {
     "ename": "FileNotFoundError",
     "evalue": "[Errno 2] No such file or directory: 'con/'",
     "output_type": "error",
     "traceback": [
      "\u001b[0;31m---------------------------------------------------------------------------\u001b[0m",
      "\u001b[0;31mFileNotFoundError\u001b[0m                         Traceback (most recent call last)",
      "Input \u001b[0;32mIn [3]\u001b[0m, in \u001b[0;36m<cell line: 10>\u001b[0;34m()\u001b[0m\n\u001b[1;32m      7\u001b[0m \u001b[38;5;28;01mimport\u001b[39;00m \u001b[38;5;21;01mos\u001b[39;00m\n\u001b[1;32m      9\u001b[0m plt\u001b[38;5;241m.\u001b[39mfigure()\n\u001b[0;32m---> 10\u001b[0m filenames \u001b[38;5;241m=\u001b[39m \u001b[43mos\u001b[49m\u001b[38;5;241;43m.\u001b[39;49m\u001b[43mlistdir\u001b[49m\u001b[43m(\u001b[49m\u001b[38;5;124;43m'\u001b[39;49m\u001b[38;5;124;43mcon/\u001b[39;49m\u001b[38;5;124;43m'\u001b[39;49m\u001b[43m)\u001b[49m\n\u001b[1;32m     11\u001b[0m k \u001b[38;5;241m=\u001b[39m \u001b[38;5;241m0\u001b[39m\n\u001b[1;32m     12\u001b[0m Np \u001b[38;5;241m=\u001b[39m \u001b[38;5;241m2000\u001b[39m\n",
      "\u001b[0;31mFileNotFoundError\u001b[0m: [Errno 2] No such file or directory: 'con/'"
     ]
    },
    {
     "data": {
      "text/plain": [
       "<Figure size 432x288 with 0 Axes>"
      ]
     },
     "metadata": {},
     "output_type": "display_data"
    }
   ],
   "source": [
    "# Data processing to N X M Matrix of Pressure\n",
    "# N = Number of points, M = Number of snapshots\n",
    "%matplotlib inline\n",
    "import matplotlib.pyplot as plt\n",
    "import numpy as np\n",
    "from scipy import interpolate\n",
    "import os\n",
    "\n",
    "plt.figure()\n",
    "filenames = os.listdir('con/')\n",
    "k = 0\n",
    "Np = 2000\n",
    "data = np.zeros([Np,31])\n",
    "for item in filenames:\n",
    "    casefile = './VTK/{}.vtk'.format(item)\n",
    "    wingfile = './VTK/wing/{}.vtk'.format(item)\n",
    "    wing, pwing, pts = pointExtract(casefile,wingfile)\n",
    "    \n",
    "    aoa = angleExtract(item)\n",
    "    \n",
    "    ptsu, ptsl, pu, pl = arrangeWing(pts,aoa,[-10,0],pwing)\n",
    "    xu = ptsu[:,0]\n",
    "    yu = ptsu[:,1]\n",
    "    xl = ptsl[:,0]\n",
    "    yl = ptsl[:,1]\n",
    "    \n",
    "    remu = np.array([])\n",
    "    reml = np.array([])\n",
    "    \n",
    "    for i in range(1,np.size(xu)):\n",
    "        if xu[i] == xu[i-1]:\n",
    "            remu = np.append(remu,i).astype(int)\n",
    "        else:\n",
    "            pass\n",
    "        \n",
    "    for i in range(1,np.size(xl)):\n",
    "        if xl[i] == xl[i-1]:\n",
    "            reml = np.append(reml,i).astype(int)\n",
    "        else:\n",
    "            pass\n",
    "    if np.size(remu)>0:\n",
    "        xu = np.delete(xu,remu)\n",
    "        yu = np.delete(yu,remu)\n",
    "        pu = np.delete(pu,remu)\n",
    "    else:\n",
    "        pass\n",
    "    if np.size(reml)>0:\n",
    "        xl = np.delete(xl,reml)    \n",
    "        yl = np.delete(yl,reml)    \n",
    "        pl = np.delete(pl,reml)\n",
    "    else:\n",
    "        pass\n",
    "    \n",
    "    pintu = interpolate.interp1d(xu,pu,kind='nearest',fill_value='extrapolate')\n",
    "    yintu = interpolate.interp1d(xu,yu,kind='nearest',fill_value='extrapolate')\n",
    "    pintl = interpolate.interp1d(xl,pl,kind='nearest',fill_value='extrapolate')\n",
    "    yintl = interpolate.interp1d(xl,yl,kind='nearest',fill_value='extrapolate')\n",
    "\n",
    "    xnewu = (1-np.cos(np.linspace(0,1,int(Np/2))*np.pi))/2\n",
    "    xnewl = (1-np.cos(np.linspace(0,1,int(Np/2))*np.pi))/2\n",
    "    ynewu = yintu(xnewu)\n",
    "    ynewl = yintl(xnewl)   \n",
    "    pun = pintu(xnewu)\n",
    "    pln = pintl(xnewl)\n",
    "    \n",
    "    data[:,k] = np.append(pun,pln)\n",
    "    k = k + 1 \n",
    "    plt.plot(xnewu,ynewu,xnewl,ynewl)\n",
    "    \n",
    "\n",
    "    "
   ]
  },
  {
   "cell_type": "code",
   "execution_count": 109,
   "id": "107d1d1c",
   "metadata": {
    "scrolled": false
   },
   "outputs": [],
   "source": [
    "import scipy.linalg as sla\n",
    "\n",
    "snapind = 0\n",
    "pdata = np.zeros([np.shape(data)[0],31])\n",
    "for i in range(np.shape(data)[1]):\n",
    "    pdata[:,i] = data[:,i] - np.mean(data,1)\n",
    "n = np.shape(pdata)[0]\n",
    "[U,S,V] = np.linalg.svd(pdata[:,25:30],'econ')\n",
    "nSensors = 10\n",
    "\n",
    "nModesSparse = 6\n",
    "NoiseLevel = 0.\n",
    "np.random.seed(550)\n",
    "perm = np.around(np.random.rand(nSensors, 1) * n)\n",
    "u = pdata[perm.astype(int),snapind]\n",
    "Theta = U[perm.astype(int),np.linspace(0,nModesSparse-1,nModesSparse).astype(int)]\n",
    "s = cosamp(Theta,u,3,1e-10,10)\n",
    "\n",
    "recon = np.dot(U[:,0:nModesSparse],s)\n"
   ]
  },
  {
   "cell_type": "code",
   "execution_count": 110,
   "id": "b2c60d1f",
   "metadata": {},
   "outputs": [
    {
     "data": {
      "text/plain": [
       "[<matplotlib.lines.Line2D at 0x7f5c7868cbe0>,\n",
       " <matplotlib.lines.Line2D at 0x7f5c7868c880>]"
      ]
     },
     "execution_count": 110,
     "metadata": {},
     "output_type": "execute_result"
    },
    {
     "data": {
      "image/png": "[encoded data removed]",
      "text/plain": [
       "<Figure size 432x288 with 1 Axes>"
      ]
     },
     "metadata": {
      "needs_background": "light"
     },
     "output_type": "display_data"
    },
    {
     "data": {
      "image/png": "[encoded data removed]",
      "text/plain": [
       "<Figure size 432x288 with 1 Axes>"
      ]
     },
     "metadata": {
      "needs_background": "light"
     },
     "output_type": "display_data"
    }
   ],
   "source": [
    "plt.figure()\n",
    "plt.plot(xnewu,recon[0:1000],xnewu,pdata[0:1000,snapind])\n",
    "\n",
    "plt.figure()\n",
    "plt.plot(xnewl,recon[1000:2000],xnewl,pdata[1000:2000,snapind])\n",
    "\n"
   ]
  },
  {
   "cell_type": "code",
   "execution_count": 107,
   "id": "2805fbca",
   "metadata": {},
   "outputs": [
    {
     "name": "stdout",
     "output_type": "stream",
     "text": [
      "[ 3 19]\n"
     ]
    },
    {
     "data": {
      "text/plain": [
       "[<matplotlib.lines.Line2D at 0x7f5c78481b50>,\n",
       " <matplotlib.lines.Line2D at 0x7f5c78481b80>]"
      ]
     },
     "execution_count": 107,
     "metadata": {},
     "output_type": "execute_result"
    },
    {
     "data": {
      "image/png": "[encoded data removed]",
      "text/plain": [
       "<Figure size 432x288 with 1 Axes>"
      ]
     },
     "metadata": {
      "needs_background": "light"
     },
     "output_type": "display_data"
    },
    {
     "data": {
      "image/png": "[encoded data removed]",
      "text/plain": [
       "<Figure size 432x288 with 1 Axes>"
      ]
     },
     "metadata": {
      "needs_background": "light"
     },
     "output_type": "display_data"
    }
   ],
   "source": [
    "nSensors = 2\n",
    "\n",
    "Un = U\n",
    "\n",
    "[q,r,p] = sla.qr(Un,pivoting=True)\n",
    "\n",
    "sensors = p[0:nSensors]\n",
    "y = pdata[sensors,snapind]\n",
    "\n",
    "print(sensors)\n",
    "\n",
    "a = np.dot(np.linalg.inv(Un[sensors,0:nSensors]),y)\n",
    "reconopt = np.dot(Un[:,0:nSensors],a)\n",
    "\n",
    "plt.figure()\n",
    "plt.plot(xnewu,reconopt[0:1000],xnewu,pdata[0:1000,snapind])\n",
    "\n",
    "plt.figure()\n",
    "plt.plot(xnewl,reconopt[1000:2000],xnewl,pdata[1000:2000,snapind])\n"
   ]
  },
  {
   "cell_type": "code",
   "execution_count": 224,
   "id": "72a0e8d4",
   "metadata": {},
   "outputs": [
    {
     "name": "stdout",
     "output_type": "stream",
     "text": [
      "[[101 287]\n",
      " [102 283]\n",
      " [103 284]\n",
      " [133 321]\n",
      " [239 124]\n",
      " [ 95 281]\n",
      " [302 282]\n",
      " [ 94 304]\n",
      " [106 329]\n",
      " [240 305]\n",
      " [107 306]\n",
      " [310 318]\n",
      " [224 316]\n",
      " [223 317]\n",
      " [300 319]\n",
      " [298 309]\n",
      " [222 307]\n",
      " [299 308]\n",
      " [225 326]\n",
      " [134 327]\n",
      " [137 331]\n",
      " [135 278]\n",
      " [126 260]\n",
      " [136 258]\n",
      " [125 123]\n",
      " [208 259]\n",
      " [ 14 272]\n",
      " [209 311]\n",
      " [ 13 110]\n",
      " [127 122]\n",
      " [290 111]\n",
      " [210 251]\n",
      " [228 273]\n",
      " [211 249]\n",
      " [227 250]\n",
      " [237 119]\n",
      " [229 252]\n",
      " [297 303]\n",
      " [330 253]\n",
      " [173 254]\n",
      " [236 263]\n",
      " [218 116]\n",
      " [172 328]\n",
      " [219 261]\n",
      " [171 262]\n",
      " [226 264]\n",
      " [190 115]\n",
      " [188 265]\n",
      " [ 51 257]\n",
      " [189 255]\n",
      " [ 50 121]\n",
      " [ 53 285]\n",
      " [191 256]\n",
      " [192 286]\n",
      " [ 54 288]\n",
      " [220 120]\n",
      " [ 16 118]\n",
      " [221 289]\n",
      " [ 15 117]\n",
      " [238 325]\n",
      " [ 17 144]\n",
      " [ 63 324]\n",
      " [ 55 280]\n",
      " [ 64 277]\n",
      " [  0 323]\n",
      " [160 153]\n",
      " [161 322]\n",
      " [  1 152]\n",
      " [212 313]\n",
      " [ 52 207]\n",
      " [ 73 312]\n",
      " [186 314]\n",
      " [169 205]\n",
      " [174 206]\n",
      " [170 113]\n",
      " [175 112]\n",
      " [ 48 247]\n",
      " [193 248]\n",
      " [157 114]\n",
      " [ 49 279]\n",
      " [154  61]\n",
      " [156 275]\n",
      " [155 274]\n",
      " [158  62]\n",
      " [194 276]\n",
      " [187  88]\n",
      " [162 320]\n",
      " [230 315]\n",
      " [ 23 241]\n",
      " [231 143]\n",
      " [232 142]\n",
      " [ 24  87]\n",
      " [ 56 139]\n",
      " [197  70]\n",
      " [  2 138]\n",
      " [196  93]\n",
      " [  3  71]\n",
      " [195  92]\n",
      " [  4 148]\n",
      " [198 132]\n",
      " [ 57 151]\n",
      " [ 75  72]\n",
      " [ 76 271]\n",
      " [ 22  46]\n",
      " [ 66 269]\n",
      " [ 21  47]\n",
      " [ 67 268]\n",
      " [ 20 145]\n",
      " [ 39 270]\n",
      " [ 74  45]\n",
      " [ 40 291]\n",
      " [ 19  41]\n",
      " [ 18 217]\n",
      " [ 65  42]\n",
      " [165  43]\n",
      " [ 28 216]\n",
      " [214 295]\n",
      " [ 78  44]\n",
      " [ 11 296]\n",
      " [  8 105]\n",
      " [ 12  68]\n",
      " [  7 104]\n",
      " [ 33 109]\n",
      " [ 27  69]\n",
      " [ 80 150]\n",
      " [ 77  83]\n",
      " [ 31 149]\n",
      " [ 26 266]\n",
      " [ 32 234]\n",
      " [ 25 267]\n",
      " [ 29 179]\n",
      " [ 34 140]\n",
      " [ 82 176]\n",
      " [ 79 100]\n",
      " [ 35 177]\n",
      " [ 30  99]\n",
      " [ 36  98]\n",
      " [ 10 233]\n",
      " [  9 178]\n",
      " [ 81 108]\n",
      " [202 244]\n",
      " [213 167]\n",
      " [201 243]\n",
      " [164 168]\n",
      " [199 242]\n",
      " [163 215]\n",
      " [166 301]\n",
      " [200 166]\n",
      " [204 246]\n",
      " [215 163]\n",
      " [182 245]\n",
      " [168 164]\n",
      " [180 129]\n",
      " [167 213]\n",
      " [178 128]\n",
      " [181 141]\n",
      " [203   9]\n",
      " [233  97]\n",
      " [159  10]\n",
      " [177  96]\n",
      " [  5 146]\n",
      " [176  30]\n",
      " [179  90]\n",
      " [  6  79]\n",
      " [234  89]\n",
      " [ 60  29]\n",
      " [ 37  25]\n",
      " [ 83 235]\n",
      " [ 38  26]\n",
      " [ 69 185]\n",
      " [ 68  77]\n",
      " [ 86  27]\n",
      " [ 58 184]\n",
      " [ 44   7]\n",
      " [ 59 183]\n",
      " [ 43   8]\n",
      " [ 42 131]\n",
      " [ 84  78]\n",
      " [ 85  28]\n",
      " [ 41 130]\n",
      " [ 91  18]\n",
      " [ 45 294]\n",
      " [147  19]\n",
      " [145 293]\n",
      " [ 47  74]\n",
      " [292 292]\n",
      " [293  20]\n",
      " [ 46 147]\n",
      " [294  21]\n",
      " [ 72  91]\n",
      " [130  22]\n",
      " [132  75]\n",
      " [ 71  85]\n",
      " [131  84]\n",
      " [183 198]\n",
      " [ 70 195]\n",
      " [184  59]\n",
      " [ 87 196]\n",
      " [241  58]\n",
      " [185 197]\n",
      " [235 232]\n",
      " [ 88  86]\n",
      " [ 89 231]\n",
      " [ 62 230]\n",
      " [ 90  38]\n",
      " [146 194]\n",
      " [ 61 158]\n",
      " [ 96  37]\n",
      " [ 97 156]\n",
      " [248 157]\n",
      " [141  60]\n",
      " [247 193]\n",
      " [128   6]\n",
      " [129 175]\n",
      " [206 174]\n",
      " [205   5]\n",
      " [245  73]\n",
      " [246 159]\n",
      " [207  52]\n",
      " [301 203]\n",
      " [322   1]\n",
      " [242 181]\n",
      " [323   0]\n",
      " [243 180]\n",
      " [324  55]\n",
      " [244 182]\n",
      " [325  17]\n",
      " [108 204]\n",
      " [289  15]\n",
      " [288 200]\n",
      " [ 98  16]\n",
      " [ 99  54]\n",
      " [256 199]\n",
      " [100 201]\n",
      " [255  53]\n",
      " [140 202]\n",
      " [257  50]\n",
      " [265  81]\n",
      " [267  51]\n",
      " [264  36]\n",
      " [266 226]\n",
      " [262  35]\n",
      " [149 171]\n",
      " [261  82]\n",
      " [328 172]\n",
      " [150  34]\n",
      " [109 173]\n",
      " [263  32]\n",
      " [104 330]\n",
      " [254  31]\n",
      " [105 229]\n",
      " [253  80]\n",
      " [303 227]\n",
      " [296  33]\n",
      " [295 228]\n",
      " [252  12]\n",
      " [216 127]\n",
      " [250  13]\n",
      " [249  11]\n",
      " [217  14]\n",
      " [291 214]\n",
      " [273 165]\n",
      " [270 125]\n",
      " [251  65]\n",
      " [268 126]\n",
      " [111  40]\n",
      " [269 134]\n",
      " [110  39]\n",
      " [271 225]\n",
      " [311  67]\n",
      " [151 222]\n",
      " [148  66]\n",
      " [272 223]\n",
      " [ 92  76]\n",
      " [ 93 224]\n",
      " [259  57]\n",
      " [138 240]\n",
      " [258   4]\n",
      " [139  94]\n",
      " [142   3]\n",
      " [260   2]\n",
      " [143  95]\n",
      " [278  56]\n",
      " [315 239]\n",
      " [331  24]\n",
      " [320 103]\n",
      " [327  23]\n",
      " [276 162]\n",
      " [326 101]\n",
      " [308 187]\n",
      " [274 102]\n",
      " [275 155]\n",
      " [307 133]\n",
      " [279 154]\n",
      " [309  49]\n",
      " [114 302]\n",
      " [319  48]\n",
      " [112 170]\n",
      " [317 106]\n",
      " [113 169]\n",
      " [316 107]\n",
      " [318 186]\n",
      " [314 310]\n",
      " [312 212]\n",
      " [306 300]\n",
      " [313 161]\n",
      " [305 298]\n",
      " [152 299]\n",
      " [329 160]\n",
      " [153  64]\n",
      " [304 137]\n",
      " [277 135]\n",
      " [282  63]\n",
      " [280 136]\n",
      " [281 238]\n",
      " [321 221]\n",
      " [144 208]\n",
      " [117 209]\n",
      " [284 220]\n",
      " [118 290]\n",
      " [283 192]\n",
      " [120 210]\n",
      " [287 191]\n",
      " [286 211]\n",
      " [124 237]\n",
      " [123 189]\n",
      " [122 297]\n",
      " [285 188]\n",
      " [119 236]\n",
      " [116 218]\n",
      " [121 190]\n",
      " [115 219]]\n"
     ]
    },
    {
     "data": {
      "text/plain": [
       "[<matplotlib.lines.Line2D at 0x7f877ed10190>,\n",
       " <matplotlib.lines.Line2D at 0x7f877ed102e0>]"
      ]
     },
     "execution_count": 224,
     "metadata": {},
     "output_type": "execute_result"
    },
    {
     "data": {
      "image/png": "[encoded data removed]",
      "text/plain": [
       "<Figure size 432x288 with 1 Axes>"
      ]
     },
     "metadata": {
      "needs_background": "light"
     },
     "output_type": "display_data"
    }
   ],
   "source": [
    "tx = pts[np.argsort(pts[:,0]),0]\n",
    "pts_chordwise = pts[np.argsort(pts,0)]\n",
    "print(np.argsort(pts,0))\n",
    "wingp = (pwing[np.argsort(pts[:,0])])\n",
    "plt.plot(pts_chordwise[:,0],wingp)"
   ]
  },
  {
   "cell_type": "code",
   "execution_count": 96,
   "id": "8e554bea",
   "metadata": {},
   "outputs": [
    {
     "name": "stdout",
     "output_type": "stream",
     "text": [
      "[3. 2. 1.]\n"
     ]
    }
   ],
   "source": [
    "A = np.eye(3)\n",
    "b = np.array([3, 2, 1]).T\n",
    "x = np.dot(np.linalg.inv(A),b)\n",
    "print(x)"
   ]
  },
  {
   "cell_type": "code",
   "execution_count": 4,
   "id": "157871dd",
   "metadata": {},
   "outputs": [],
   "source": [
    "def getSomeLift():\n",
    "    import os\n",
    "    import numpy as np\n",
    "    dirs = os.listdir('./con/')\n",
    "    forces = './system/forces'\n",
    "    for item in dirs:\n",
    "        os.system('cp {} ./con/{}/system'.format(forces,item))\n"
   ]
  },
  {
   "cell_type": "code",
   "execution_count": 12,
   "id": "22af059c",
   "metadata": {},
   "outputs": [
    {
     "name": "stdout",
     "output_type": "stream",
     "text": [
      "[0.         0.10333333 0.20333333 0.30666667 0.40377778 0.50111111\n",
      " 0.59444444 0.72555556 0.84777778 1.07222222 1.05888889 1.14\n",
      " 1.17888889]\n"
     ]
    },
    {
     "data": {
      "text/plain": [
       "[<matplotlib.lines.Line2D at 0x7f92ea471d30>,\n",
       " <matplotlib.lines.Line2D at 0x7f92ea471af0>]"
      ]
     },
     "execution_count": 12,
     "metadata": {},
     "output_type": "execute_result"
    },
    {
     "data": {
      "image/png": "[encoded data removed]",
      "text/plain": [
       "<Figure size 432x288 with 1 Axes>"
      ]
     },
     "metadata": {
      "needs_background": "light"
     },
     "output_type": "display_data"
    }
   ],
   "source": [
    "import numpy as np\n",
    "import matplotlib.pyplot as plt\n",
    "F = np.array([0, 9.3, 18.3, 27.6, 36.34,45.1,53.5,65.3,76.3,96.5,95.3,102.6,106.1])\n",
    "v = 15\n",
    "rho = 1\n",
    "S = 1 * .8\n",
    "\n",
    "Cl = F/(.5*v**2*S)\n",
    "print(Cl)\n",
    "\n",
    "alpha = np.array([0,1,2,3,4,5,6,9,10,11,12,13.5,14.5])\n",
    "alpharad = alpha*np.pi/180\n",
    "\n",
    "test = np.linspace(0,.5,100)\n",
    "testcl = 2*np.pi*test\n",
    "\n",
    "plt.plot(alpharad,Cl,'*',test,testcl)"
   ]
  },
  {
   "cell_type": "code",
   "execution_count": 56,
   "id": "b940ee17",
   "metadata": {},
   "outputs": [
    {
     "name": "stdout",
     "output_type": "stream",
     "text": [
      "UnstructuredGrid (0x7f12623830a0)\n",
      "  N Cells:\t119943\n",
      "  N Points:\t226993\n",
      "  X Bounds:\t-3.000e+01, 4.000e+01\n",
      "  Y Bounds:\t-1.500e+01, 1.500e+01\n",
      "  Z Bounds:\t2.500e-01, 1.050e+00\n",
      "  N Arrays:\t5\n",
      "\n",
      "(226993,) (226993, 3)\n"
     ]
    }
   ],
   "source": [
    "%matplotlib notebook\n",
    "\n",
    "import numpy as np\n",
    "import matplotlib.pyplot as plt\n",
    "import pyvista as vtki\n",
    "caseName = './VTK/12.0_deg.vtk'\n",
    "wingName = './VTK/wing/12.0_deg.vtk'\n",
    "\n",
    "# Import raw point data for full grid and wing\n",
    "grid = vtki.UnstructuredGrid(caseName)\n",
    "wing = vtki.PolyData(wingName)\n",
    "\n",
    "grid = grid.cell_data_to_point_data()\n",
    "print(grid)\n",
    "# Isolate pressure data from full grid\n",
    "p_raw = grid['p']\n",
    "# Isolate <x, y> point data from full grid, and just wing\n",
    "pts = grid.points\n",
    "\n",
    "print(np.shape(p_raw),np.shape(pts))\n",
    "#fig = plt.figure()\n",
    "#ax = plt.axes(projection='3d')\n",
    "#ax.plot3D(pts[:,0],pts[:,1])\n",
    "#plt.show()"
   ]
  },
  {
   "cell_type": "code",
   "execution_count": 59,
   "id": "51891bf0",
   "metadata": {},
   "outputs": [
    {
     "ename": "OverflowError",
     "evalue": "Too many data points to interpolate",
     "output_type": "error",
     "traceback": [
      "\u001b[0;31m---------------------------------------------------------------------------\u001b[0m",
      "\u001b[0;31mOverflowError\u001b[0m                             Traceback (most recent call last)",
      "\u001b[0;32m/tmp/ipykernel_5315/2335966151.py\u001b[0m in \u001b[0;36m<module>\u001b[0;34m\u001b[0m\n\u001b[1;32m      9\u001b[0m \u001b[0mplt\u001b[0m\u001b[0;34m.\u001b[0m\u001b[0mcontour\u001b[0m\u001b[0;34m(\u001b[0m\u001b[0mxx\u001b[0m\u001b[0;34m,\u001b[0m\u001b[0myy\u001b[0m\u001b[0;34m,\u001b[0m\u001b[0mz\u001b[0m\u001b[0;34m)\u001b[0m\u001b[0;34m\u001b[0m\u001b[0;34m\u001b[0m\u001b[0m\n\u001b[1;32m     10\u001b[0m \u001b[0;34m\u001b[0m\u001b[0m\n\u001b[0;32m---> 11\u001b[0;31m \u001b[0mf\u001b[0m \u001b[0;34m=\u001b[0m \u001b[0minterpolate\u001b[0m\u001b[0;34m.\u001b[0m\u001b[0minterp2d\u001b[0m\u001b[0;34m(\u001b[0m\u001b[0mxx\u001b[0m\u001b[0;34m,\u001b[0m\u001b[0myy\u001b[0m\u001b[0;34m,\u001b[0m\u001b[0mz\u001b[0m\u001b[0;34m,\u001b[0m\u001b[0mkind\u001b[0m\u001b[0;34m=\u001b[0m\u001b[0;34m'cubic'\u001b[0m\u001b[0;34m)\u001b[0m\u001b[0;34m\u001b[0m\u001b[0;34m\u001b[0m\u001b[0m\n\u001b[0m\u001b[1;32m     12\u001b[0m \u001b[0;34m\u001b[0m\u001b[0m\n\u001b[1;32m     13\u001b[0m \u001b[0mplt\u001b[0m\u001b[0;34m.\u001b[0m\u001b[0mfigure\u001b[0m\u001b[0;34m(\u001b[0m\u001b[0;34m)\u001b[0m\u001b[0;34m\u001b[0m\u001b[0;34m\u001b[0m\u001b[0m\n",
      "\u001b[0;32m~/.local/lib/python3.8/site-packages/scipy/interpolate/interpolate.py\u001b[0m in \u001b[0;36m__init__\u001b[0;34m(self, x, y, z, kind, copy, bounds_error, fill_value)\u001b[0m\n\u001b[1;32m    230\u001b[0m         \u001b[0;32mif\u001b[0m \u001b[0;32mnot\u001b[0m \u001b[0mrectangular_grid\u001b[0m\u001b[0;34m:\u001b[0m\u001b[0;34m\u001b[0m\u001b[0;34m\u001b[0m\u001b[0m\n\u001b[1;32m    231\u001b[0m             \u001b[0;31m# TODO: surfit is really not meant for interpolation!\u001b[0m\u001b[0;34m\u001b[0m\u001b[0;34m\u001b[0m\u001b[0;34m\u001b[0m\u001b[0m\n\u001b[0;32m--> 232\u001b[0;31m             \u001b[0mself\u001b[0m\u001b[0;34m.\u001b[0m\u001b[0mtck\u001b[0m \u001b[0;34m=\u001b[0m \u001b[0mfitpack\u001b[0m\u001b[0;34m.\u001b[0m\u001b[0mbisplrep\u001b[0m\u001b[0;34m(\u001b[0m\u001b[0mx\u001b[0m\u001b[0;34m,\u001b[0m \u001b[0my\u001b[0m\u001b[0;34m,\u001b[0m \u001b[0mz\u001b[0m\u001b[0;34m,\u001b[0m \u001b[0mkx\u001b[0m\u001b[0;34m=\u001b[0m\u001b[0mkx\u001b[0m\u001b[0;34m,\u001b[0m \u001b[0mky\u001b[0m\u001b[0;34m=\u001b[0m\u001b[0mky\u001b[0m\u001b[0;34m,\u001b[0m \u001b[0ms\u001b[0m\u001b[0;34m=\u001b[0m\u001b[0;36m0.0\u001b[0m\u001b[0;34m)\u001b[0m\u001b[0;34m\u001b[0m\u001b[0;34m\u001b[0m\u001b[0m\n\u001b[0m\u001b[1;32m    233\u001b[0m         \u001b[0;32melse\u001b[0m\u001b[0;34m:\u001b[0m\u001b[0;34m\u001b[0m\u001b[0;34m\u001b[0m\u001b[0m\n\u001b[1;32m    234\u001b[0m             nx, tx, ny, ty, c, fp, ier = dfitpack.regrid_smth(\n",
      "\u001b[0;32m~/.local/lib/python3.8/site-packages/scipy/interpolate/_fitpack_impl.py\u001b[0m in \u001b[0;36mbisplrep\u001b[0;34m(x, y, z, w, xb, xe, yb, ye, kx, ky, task, s, eps, tx, ty, full_output, nxest, nyest, quiet)\u001b[0m\n\u001b[1;32m    952\u001b[0m         \u001b[0mb1\u001b[0m\u001b[0;34m,\u001b[0m \u001b[0mb2\u001b[0m \u001b[0;34m=\u001b[0m \u001b[0mby\u001b[0m\u001b[0;34m,\u001b[0m \u001b[0mby\u001b[0m \u001b[0;34m+\u001b[0m \u001b[0mu\u001b[0m \u001b[0;34m-\u001b[0m \u001b[0mkx\u001b[0m\u001b[0;34m\u001b[0m\u001b[0;34m\u001b[0m\u001b[0m\n\u001b[1;32m    953\u001b[0m     \u001b[0mmsg\u001b[0m \u001b[0;34m=\u001b[0m \u001b[0;34m\"Too many data points to interpolate\"\u001b[0m\u001b[0;34m\u001b[0m\u001b[0;34m\u001b[0m\u001b[0m\n\u001b[0;32m--> 954\u001b[0;31m     lwrk1 = _int_overflow(u*v*(2 + b1 + b2) +\n\u001b[0m\u001b[1;32m    955\u001b[0m                           \u001b[0;36m2\u001b[0m\u001b[0;34m*\u001b[0m\u001b[0;34m(\u001b[0m\u001b[0mu\u001b[0m \u001b[0;34m+\u001b[0m \u001b[0mv\u001b[0m \u001b[0;34m+\u001b[0m \u001b[0mkm\u001b[0m\u001b[0;34m*\u001b[0m\u001b[0;34m(\u001b[0m\u001b[0mm\u001b[0m \u001b[0;34m+\u001b[0m \u001b[0mne\u001b[0m\u001b[0;34m)\u001b[0m \u001b[0;34m+\u001b[0m \u001b[0mne\u001b[0m \u001b[0;34m-\u001b[0m \u001b[0mkx\u001b[0m \u001b[0;34m-\u001b[0m \u001b[0mky\u001b[0m\u001b[0;34m)\u001b[0m \u001b[0;34m+\u001b[0m \u001b[0mb2\u001b[0m \u001b[0;34m+\u001b[0m \u001b[0;36m1\u001b[0m\u001b[0;34m,\u001b[0m\u001b[0;34m\u001b[0m\u001b[0;34m\u001b[0m\u001b[0m\n\u001b[1;32m    956\u001b[0m                           msg=msg)\n",
      "\u001b[0;32m~/.local/lib/python3.8/site-packages/scipy/interpolate/_fitpack_impl.py\u001b[0m in \u001b[0;36m_int_overflow\u001b[0;34m(x, msg)\u001b[0m\n\u001b[1;32m     46\u001b[0m         \u001b[0;32mif\u001b[0m \u001b[0mmsg\u001b[0m \u001b[0;32mis\u001b[0m \u001b[0;32mNone\u001b[0m\u001b[0;34m:\u001b[0m\u001b[0;34m\u001b[0m\u001b[0;34m\u001b[0m\u001b[0m\n\u001b[1;32m     47\u001b[0m             \u001b[0mmsg\u001b[0m \u001b[0;34m=\u001b[0m \u001b[0;34m'%r cannot fit into an %r'\u001b[0m \u001b[0;34m%\u001b[0m \u001b[0;34m(\u001b[0m\u001b[0mx\u001b[0m\u001b[0;34m,\u001b[0m \u001b[0mdfitpack_int\u001b[0m\u001b[0;34m)\u001b[0m\u001b[0;34m\u001b[0m\u001b[0;34m\u001b[0m\u001b[0m\n\u001b[0;32m---> 48\u001b[0;31m         \u001b[0;32mraise\u001b[0m \u001b[0mOverflowError\u001b[0m\u001b[0;34m(\u001b[0m\u001b[0mmsg\u001b[0m\u001b[0;34m)\u001b[0m\u001b[0;34m\u001b[0m\u001b[0;34m\u001b[0m\u001b[0m\n\u001b[0m\u001b[1;32m     49\u001b[0m     \u001b[0;32mreturn\u001b[0m \u001b[0mdfitpack_int\u001b[0m\u001b[0;34m.\u001b[0m\u001b[0mtype\u001b[0m\u001b[0;34m(\u001b[0m\u001b[0mx\u001b[0m\u001b[0;34m)\u001b[0m\u001b[0;34m\u001b[0m\u001b[0;34m\u001b[0m\u001b[0m\n\u001b[1;32m     50\u001b[0m \u001b[0;34m\u001b[0m\u001b[0m\n",
      "\u001b[0;31mOverflowError\u001b[0m: Too many data points to interpolate"
     ]
    },
    {
     "data": {
      "image/png": "[encoded data removed]",
      "text/plain": [
       "<Figure size 432x288 with 1 Axes>"
      ]
     },
     "metadata": {
      "needs_background": "light"
     },
     "output_type": "display_data"
    }
   ],
   "source": [
    "from scipy import interpolate\n",
    "\n",
    "x = np.arange(-5,5,1e-2)\n",
    "y = np.arange(-2,2,1e-2)\n",
    "xx, yy = np.meshgrid(x,y)\n",
    "z = np.sin(xx)+ np.exp(-yy)\n",
    "\n",
    "plt.figure()\n",
    "plt.contour(xx,yy,z)\n",
    "\n",
    "f = interpolate.interp2d(xx,yy,z,kind='cubic')\n",
    "\n",
    "plt.figure()\n",
    "plt.contour(xx,yy,f)"
   ]
  },
  {
   "cell_type": "code",
   "execution_count": 19,
   "id": "c9fe70a7",
   "metadata": {},
   "outputs": [
    {
     "name": "stdout",
     "output_type": "stream",
     "text": [
      "[[ 3  1  1]\n",
      " [ 2  0  1]\n",
      " [ 1 -1  1]\n",
      " [ 3  1  0]\n",
      " [ 2  0  0]\n",
      " [ 1 -1  0]]\n",
      "[ 3  1  1  2  0  1  1 -1  1  3  1  0  2  0  0  1 -1  0]\n"
     ]
    }
   ],
   "source": [
    "import numpy as np\n",
    "\n",
    "G = np.array([[3, 1, 1],[2, 0, 1],[1, -1, 1],[3, 1, 0],[2, 0, 0],[1, -1, 0]])\n",
    "\n",
    "H = G.flatten('C')\n",
    "\n"
   ]
  },
  {
   "cell_type": "code",
   "execution_count": 1,
   "id": "7cdab4df",
   "metadata": {},
   "outputs": [
    {
     "name": "stdout",
     "output_type": "stream",
     "text": [
      "115200.0\n"
     ]
    }
   ],
   "source": [
    "p = .5*480**2\n",
    "print(p)"
   ]
  }
 ],
 "metadata": {
  "kernelspec": {
   "display_name": "Python 3 (ipykernel)",
   "language": "python",
   "name": "python3"
  },
  "language_info": {
   "codemirror_mode": {
    "name": "ipython",
    "version": 3
   },
   "file_extension": ".py",
   "mimetype": "text/x-python",
   "name": "python",
   "nbconvert_exporter": "python",
   "pygments_lexer": "ipython3",
   "version": "3.10.4"
  }
 },
 "nbformat": 4,
 "nbformat_minor": 5
}
