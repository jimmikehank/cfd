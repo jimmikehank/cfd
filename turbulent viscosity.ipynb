{
 "cells": [
  {
   "cell_type": "markdown",
   "id": "84d37030",
   "metadata": {},
   "source": [
    "From Ideal Gas:\n",
    "\n",
    "$\\rho = \\dfrac{P}{R T}$\n",
    "\n",
    "$P$ : Plenum Pressure\n",
    "\n",
    "$T$ : Plenum Temperature\n",
    "\n",
    "$R$ : Specific Ideal Gas Constant\n",
    "\n"
   ]
  },
  {
   "cell_type": "code",
   "execution_count": 12,
   "id": "486b47b5",
   "metadata": {},
   "outputs": [
    {
     "name": "stdout",
     "output_type": "stream",
     "text": [
      "Recommended nu_t: 2.0183838025732053e-05\n",
      "\n",
      "Recommended nu_tilda: 7.797597923875433e-05\n"
     ]
    }
   ],
   "source": [
    "# Freestream\n",
    "\n",
    "P = 1.0e5     # Pascals\n",
    "MM = .0289    # kg/mol\n",
    "T = 298       # Kelvin\n",
    "mu = 1.82e-5\n",
    "\n",
    "def saboco(P,MM,T,mu):\n",
    "    R = 8.31/MM   # Universal gas constant / Molar Mass\n",
    "    rho = P/(R*T) # kg/m^3    \n",
    "    nu = mu/rho\n",
    "    Cv1 = 7.1     # Common constant\n",
    "\n",
    "    nu_tilda = 5*nu\n",
    "    chi = nu_tilda/nu\n",
    "    fv1 = chi**3/(chi**3 + Cv1**3)\n",
    "    nu_t = nu_tilda*fv1\n",
    "    \n",
    "    return nu_tilda, nu_t\n",
    "\n",
    "nu_tilda,nu_t = saboco(P,MM,T,mu)\n",
    "\n",
    "print('Recommended nu_t: {}'.format(nu_t))\n",
    "\n",
    "print('\\nRecommended nu_tilda: {}'.format(nu_tilda))"
   ]
  },
  {
   "cell_type": "code",
   "execution_count": 13,
   "id": "e70673e7",
   "metadata": {},
   "outputs": [
    {
     "name": "stdout",
     "output_type": "stream",
     "text": [
      "Recommended nu_t: 1.1872845897489444e-05\n",
      "\n",
      "Recommended nu_tilda: 4.5868223081620195e-05\n"
     ]
    }
   ],
   "source": [
    "#Plenum\n",
    "\n",
    "P = 1.7e5\n",
    "\n",
    "nu_tilda,nu_t = saboco(P,MM,T,mu)\n",
    "\n",
    "print('Recommended nu_t: {}'.format(nu_t))\n",
    "\n",
    "print('\\nRecommended nu_tilda: {}'.format(nu_tilda))"
   ]
  }
 ],
 "metadata": {
  "kernelspec": {
   "display_name": "Python 3 (ipykernel)",
   "language": "python",
   "name": "python3"
  },
  "language_info": {
   "codemirror_mode": {
    "name": "ipython",
    "version": 3
   },
   "file_extension": ".py",
   "mimetype": "text/x-python",
   "name": "python",
   "nbconvert_exporter": "python",
   "pygments_lexer": "ipython3",
   "version": "3.8.10"
  }
 },
 "nbformat": 4,
 "nbformat_minor": 5
}
