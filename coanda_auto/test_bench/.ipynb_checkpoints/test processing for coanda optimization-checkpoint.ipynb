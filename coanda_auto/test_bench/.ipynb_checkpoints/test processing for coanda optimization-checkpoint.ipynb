{
 "cells": [
  {
   "cell_type": "code",
   "execution_count": 18,
   "id": "cf5ad1c7",
   "metadata": {},
   "outputs": [
    {
     "name": "stdout",
     "output_type": "stream",
     "text": [
      "5.069961773641749e-11\n",
      "[ 6.51063408e-07  8.72435006e-06  1.65015591e-07  1.00395283e-11\n",
      " -4.26764459e-14] [3.030e-03 1.515e-04 1.782e-04 5.050e-01 5.940e+01]\n"
     ]
    }
   ],
   "source": [
    "import numpy as np\n",
    "\n",
    "x = np.loadtxt('X.txt')\n",
    "dldx = np.loadtxt('dLdX.txt')\n",
    "\n",
    "resx = x[1,:] - x[0,:]\n",
    "resg = dldx[1,:] - dldx[0,:]\n",
    "\n",
    "gamma = 1/np.dot(resg,resg)\n",
    "print(gamma)\n",
    "\n",
    "xnew = gamma * dldx[1,:]\n",
    "print(xnew,x[1,:])\n",
    "\n",
    "folder = \"/home/Documents/research/converged_cases/\"\n",
    "\n",
    "def retrieve_lift(folder, case_iter):\n",
    "    import os\n",
    "    file = \"{}iteration_{}\".format(folder,case_iter)\n",
    "    os.system('rhoSimpleFoam -case {} -postProcess -func forces -latestTime'.format(file))\n",
    "    forceFold = os.listdir('./postProcessing/forces')\n",
    "    forceFold = forceFold[0]\n",
    "    sel = []\n",
    "    with open('./postProcessing/forces/{}/forces.dat'.format(forceFold)) as f:\n",
    "        data = f.readlines()[3]\n",
    "    for i in range(len(data)):\n",
    "        if data[i] == '(' and data[i+1] == '(':\n",
    "            j = i\n",
    "            g = 0\n",
    "            while g < 2:\n",
    "                if data[j] == ' ':\n",
    "                    sel.append(j)\n",
    "                    g = g + 1\n",
    "                    j = j+1\n",
    "                else:\n",
    "                    j = j+1\n",
    "\n",
    "            break\n",
    "    lift = float(data[sel[0]:sel[1]])\n",
    "    return lift\n",
    "    "
   ]
  }
 ],
 "metadata": {
  "kernelspec": {
   "display_name": "Python 3 (ipykernel)",
   "language": "python",
   "name": "python3"
  },
  "language_info": {
   "codemirror_mode": {
    "name": "ipython",
    "version": 3
   },
   "file_extension": ".py",
   "mimetype": "text/x-python",
   "name": "python",
   "nbconvert_exporter": "python",
   "pygments_lexer": "ipython3",
   "version": "3.8.10"
  }
 },
 "nbformat": 4,
 "nbformat_minor": 5
}
