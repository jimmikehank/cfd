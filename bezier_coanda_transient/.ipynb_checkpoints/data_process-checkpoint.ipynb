{
 "cells": [
  {
   "cell_type": "code",
   "execution_count": 1,
   "id": "31df4baf",
   "metadata": {},
   "outputs": [],
   "source": [
    "def check_float(textin):\n",
    "    try:\n",
    "        float(textin)\n",
    "        return True\n",
    "\n",
    "    except ValueError:\n",
    "        return False\n",
    "\n",
    "def check_force(folder):\n",
    "    import os\n",
    "    import numpy as np\n",
    "    files = os.listdir(folder)\n",
    "    cleaned = [float(x) for x in files if check_float(x)]\n",
    "    print(np.max(cleaned))\n",
    "    if os.path.exists(folder+\"/postProcessing/forces/{}\".format(np.max(cleaned))):\n",
    "        return False\n",
    "    else:\n",
    "        return True\n",
    "    \n",
    "def retrieve_lift(folder):\n",
    "    import os\n",
    "    import shutil\n",
    "    import numpy as np\n",
    "    \n",
    "    files = os.listdir(folder)\n",
    "    cleaned = [x for x in files if check_float(x)]\n",
    "    files = sorted(cleaned)\n",
    "    needs_forces = check_force(folder)\n",
    "    print(needs_forces)\n",
    "    if needs_forces:\n",
    "        force_command = \"rhoSimpleFoam -postProcess -case {} -func forces\".format(folder)\n",
    "        os.system(force_command)\n",
    "    else:\n",
    "        pass\n",
    "    \n",
    "    forces = np.zeros(3)\n",
    "    moments = np.zeros(3)\n",
    "    time = np.array([])\n",
    "    \n",
    "    for file in files:    \n",
    "        with open(\"{}/postProcessing/forces/{}/forces.dat\".format(folder,file)) as f:\n",
    "            full = f.readlines()\n",
    "            line = full[3]\n",
    "            starts = []\n",
    "            ends = []\n",
    "            for i in range(len(line)):\n",
    "                if line[i] == '(' and line[i+1] != '(':\n",
    "                    starts.append(i+1)\n",
    "                elif line[i] == ')' and line[i-1] != ')':\n",
    "                    ends.append(i)\n",
    "            pressure_forces = np.array([float(x) for x in line[starts[0]:ends[0]].split()])\n",
    "            viscous_forces = np.array([float(x) for x in line[starts[1]:ends[1]].split()])\n",
    "\n",
    "            pressure_moments = np.array([float(x) for x in line[starts[2]:ends[2]].split()])\n",
    "            viscous_moments = np.array([float(x) for x in line[starts[3]:ends[3]].split()])\n",
    "            forces = np.vstack([forces, pressure_forces + viscous_forces])\n",
    "            moments = np.vstack([moments, pressure_moments + viscous_moments])\n",
    "            time = np.append(time,float(file))\n",
    "    return forces, moments, time     \n",
    "        \n",
    "def find_profile(mesh,position):\n",
    "    import numpy as np\n",
    "    p = position\n",
    "    mesh.set_active_scalars('U')\n",
    "    x = mesh.sample_over_line([position, -4.8, 0.],[position,4.8,0.])\n",
    "    Udata = x.point_data['U']\n",
    "    mesh.set_active_scalars('p')\n",
    "    y = mesh.sample_over_line([position, -4.8, 0.],[position,4.8,0.])\n",
    "    Pdata = y.point_data['p']\n",
    "    y = y.points[:,1]\n",
    "    return Udata,Pdata,y\n",
    "\n",
    "def VTK_files(folder,debug=False):\n",
    "    import os\n",
    "    vtk_exists = os.path.exists(folder + '/VTK')\n",
    "    if vtk_exists:\n",
    "        if debug:\n",
    "            print('VTK Exists for case: {}'.format(folder))\n",
    "        pass\n",
    "    else:\n",
    "        os.system('foamToVTK -case {}'.format(folder))\n",
    "    for file in os.listdir(folder+'/VTK/'):\n",
    "        if file[-3:] == 'vtk':\n",
    "            target = file\n",
    "        else:\n",
    "            pass\n",
    "    return target\n",
    "\n",
    "def find_peaks(data):\n",
    "    descend = np.argsort(data)[::-1]\n",
    "    peaks = []\n",
    "    for i in descend:\n",
    "        if i != 0 and i != len(data)-1 and data[i] > data[i-1] and data[i] > data[i+1]:\n",
    "            peaks.append(int(i))\n",
    "            \n",
    "        else:\n",
    "            pass\n",
    "    return peaks\n",
    "    "
   ]
  },
  {
   "cell_type": "code",
   "execution_count": 2,
   "id": "84c7e19c",
   "metadata": {},
   "outputs": [
    {
     "name": "stdout",
     "output_type": "stream",
     "text": [
      "0.5\n",
      "False\n"
     ]
    }
   ],
   "source": [
    "## For Impulse Cases\n",
    "\n",
    "import os\n",
    "import numpy as np\n",
    "import matplotlib.pyplot as plt\n",
    "from scipy import signal\n",
    "# import control\n",
    "\n",
    "# directory = '/media/james/Data/james/completed_cases/coanda_airfoils/impulse_25'\n",
    "directory = '/media/james/Data/james/completed_cases/coanda_airfoils/era/'\n",
    "filename = 'std_init_1'\n",
    "data = retrieve_lift(directory+filename)"
   ]
  },
  {
   "cell_type": "code",
   "execution_count": 11,
   "id": "47f05fec",
   "metadata": {},
   "outputs": [
    {
     "name": "stdout",
     "output_type": "stream",
     "text": [
      "(5001,)\n"
     ]
    },
    {
     "data": {
      "text/plain": [
       "<matplotlib.legend.Legend at 0x7f4f81d84eb0>"
      ]
     },
     "execution_count": 11,
     "metadata": {},
     "output_type": "execute_result"
    },
    {
     "data": {
      "image/png": "[encoded data removed]",
      "text/plain": [
       "<Figure size 432x432 with 1 Axes>"
      ]
     },
     "metadata": {
      "needs_background": "light"
     },
     "output_type": "display_data"
    }
   ],
   "source": [
    "# Direct Data Plotting (Lift and Drag)\n",
    "c = 0.3\n",
    "U = 20\n",
    "rho = 1.17\n",
    "b = .156\n",
    "QS = .5 * rho * U**2 * c * b\n",
    "tau = c / U\n",
    "start = 0\n",
    "dur = 5\n",
    "input_signal = np.zeros([1001,1])\n",
    "input_signal[start:start+dur] = 1\n",
    "time = data[2]\n",
    "lift = data[0][:-1,1]\n",
    "CL = lift / QS\n",
    "print(np.shape(lift))\n",
    "drag = data[0][:-1,0]\n",
    "CD = drag / QS\n",
    "start = 0\n",
    "plt.figure(figsize = [6,6])\n",
    "plt.plot(time[start:],CL[start:])\n",
    "plt.plot(time[start:],CD[start:])\n",
    "\n",
    "\n",
    "plt.title(\"Impulse Response\\n1.5ms Duration, 200ms Start Time\",fontsize='x-large')\n",
    "plt.ylabel('Force (N)',fontsize='large')\n",
    "plt.xlabel('Convective Times',fontsize='large')\n",
    "plt.legend(['Lift','Drag'],fontsize='x-large')\n",
    "\n",
    "#plt.savefig('impulse_005dur_100start.png')"
   ]
  },
  {
   "cell_type": "code",
   "execution_count": 28,
   "id": "a33fcc94",
   "metadata": {},
   "outputs": [
    {
     "name": "stdout",
     "output_type": "stream",
     "text": [
      "['bezier_coanda_init_500.vtk', 'bezier_coanda_init_0.vtk']\n",
      "500\n",
      "0\n",
      "(13321, 2)\n"
     ]
    },
    {
     "data": {
      "text/plain": [
       "[<matplotlib.lines.Line2D at 0x7faa62546670>]"
      ]
     },
     "execution_count": 28,
     "metadata": {},
     "output_type": "execute_result"
    },
    {
     "data": {
      "image/png": "[encoded data removed]",
      "text/plain": [
       "<Figure size 432x288 with 1 Axes>"
      ]
     },
     "metadata": {
      "needs_background": "light"
     },
     "output_type": "display_data"
    }
   ],
   "source": [
    "# Profile Extraction \n",
    "\n",
    "import numpy as np\n",
    "import pyvista as pv\n",
    "import os\n",
    "from matplotlib import pyplot as plt\n",
    "\n",
    "\n",
    "\n",
    "directory = '/media/james/Data/james/completed_cases/coanda_airfoils/era/'\n",
    "directory = '/home/james/Documents/research/cfd/bezier_coanda_init/'\n",
    "filename = 'std_init_1'\n",
    "filename = '/'\n",
    "\n",
    "# data = retrieve_lift(directory)\n",
    "\n",
    "\n",
    "d = 0.12 *.0254 * 5\n",
    "target_folder = directory+filename+'/VTK/'\n",
    "\n",
    "contents = os.listdir(target_folder)\n",
    "files = [file for file in contents if file[-3:] == 'vtk']\n",
    "print(files)\n",
    "numarray = np.zeros(len(files))\n",
    "targs = []\n",
    "k = 0\n",
    "\n",
    "for file in files:\n",
    "    x = file.split('_')[3].split('.')[0]\n",
    "    print(x)\n",
    "    numarray[k] = x\n",
    "    k+=1\n",
    "\n",
    "sorter = np.argsort(numarray)\n",
    "\n",
    "targs = [files[sorter[i]] for i in range(len(files))]\n",
    "t = np.linspace(0,0.4999,5000)\n",
    "    \n",
    "plt.figure()\n",
    "for i in range(len(targs)):\n",
    "    target = targs[i]\n",
    "    \n",
    "    mesh = pv.read(directory+filename+'/VTK/' + target)\n",
    "\n",
    "    u, p, y = find_profile(mesh,d)\n",
    "    if i == 0:\n",
    "        Ux = u[:,0]\n",
    "        Uy = u[:,1]\n",
    "        P = p\n",
    "        \n",
    "    else:\n",
    "        Ux = np.vstack([Ux,u[:,0]])\n",
    "        Uy = np.vstack([Uy,u[:,1]])\n",
    "        P = np.vstack([P,p])\n",
    "#     if i % 500 == 0:\n",
    "#         print(\"{}% complete\".format(i/50))\n",
    "        \n",
    "\n",
    "\n",
    "    \n",
    "\n",
    "Ux = Ux.T\n",
    "Uy = Uy.T\n",
    "P = P.T\n",
    "\n",
    "print(np.shape(Ux))\n",
    "plt.plot(Ux[:,1])"
   ]
  },
  {
   "cell_type": "code",
   "execution_count": 146,
   "id": "af7e3894",
   "metadata": {},
   "outputs": [
    {
     "data": {
      "text/plain": [
       "<Figure size 432x288 with 0 Axes>"
      ]
     },
     "metadata": {},
     "output_type": "display_data"
    }
   ],
   "source": [
    "# Save extracted profile data\n",
    "\n",
    "import scipy.io\n",
    "\n",
    "start = 4000\n",
    "data = []\n",
    "plt.figure()\n",
    "Uyp = np.zeros(np.shape(Uy)[0])\n",
    "for i in range(0,10):\n",
    "    \n",
    "    Uyp += Uy[:,start+i*19]\n",
    "\n",
    "Uxd = Ux[:,start:start+20]\n",
    "Uyd = Uy[:,start:start+20]\n",
    "Pd = P[:,start:start+20]\n",
    "\n",
    "\n",
    "save_dict = {\"Ux\": Uxd, \"Uy\": Uyd, \"P\": Pd, \"y\": y}\n",
    "scipy.io.savemat('./output/shedding_profile.mat', save_dict)"
   ]
  },
  {
   "cell_type": "code",
   "execution_count": 25,
   "id": "4691ae01",
   "metadata": {},
   "outputs": [
    {
     "ename": "ValueError",
     "evalue": "Input must be 1- or 2-d.",
     "output_type": "error",
     "traceback": [
      "\u001b[0;31m---------------------------------------------------------------------------\u001b[0m",
      "\u001b[0;31mValueError\u001b[0m                                Traceback (most recent call last)",
      "Input \u001b[0;32mIn [25]\u001b[0m, in \u001b[0;36m<module>\u001b[0;34m\u001b[0m\n\u001b[1;32m     54\u001b[0m     Z \u001b[38;5;241m=\u001b[39m np\u001b[38;5;241m.\u001b[39mzeros(\u001b[38;5;28mlen\u001b[39m(y))\n\u001b[1;32m     56\u001b[0m \u001b[38;5;28;01mimport\u001b[39;00m \u001b[38;5;21;01mnumpy\u001b[39;00m \u001b[38;5;28;01mas\u001b[39;00m \u001b[38;5;21;01mnp\u001b[39;00m\n\u001b[0;32m---> 58\u001b[0m \u001b[43mnp\u001b[49m\u001b[38;5;241;43m.\u001b[39;49m\u001b[43mdiag\u001b[49m\u001b[43m(\u001b[49m\u001b[38;5;241;43m1\u001b[39;49m\u001b[43m)\u001b[49m\n",
      "File \u001b[0;32m<__array_function__ internals>:180\u001b[0m, in \u001b[0;36mdiag\u001b[0;34m(*args, **kwargs)\u001b[0m\n",
      "File \u001b[0;32m~/.local/lib/python3.8/site-packages/numpy/lib/twodim_base.py:303\u001b[0m, in \u001b[0;36mdiag\u001b[0;34m(v, k)\u001b[0m\n\u001b[1;32m    301\u001b[0m     \u001b[38;5;28;01mreturn\u001b[39;00m diagonal(v, k)\n\u001b[1;32m    302\u001b[0m \u001b[38;5;28;01melse\u001b[39;00m:\n\u001b[0;32m--> 303\u001b[0m     \u001b[38;5;28;01mraise\u001b[39;00m \u001b[38;5;167;01mValueError\u001b[39;00m(\u001b[38;5;124m\"\u001b[39m\u001b[38;5;124mInput must be 1- or 2-d.\u001b[39m\u001b[38;5;124m\"\u001b[39m)\n",
      "\u001b[0;31mValueError\u001b[0m: Input must be 1- or 2-d."
     ]
    }
   ],
   "source": [
    "def BLBClinstab(LHS,RHS,N):\n",
    "    import numpy as np\n",
    "    for ni in np.arange(N,4*N+1,N):\n",
    "        LHS[ni,:] = 0\n",
    "        RHS[ni,:] = 0\n",
    "        LHS[ni,ni] = 1\n",
    "    for ni in np.arange(0,3*N+1,1):\n",
    "        LHS[ni,:] = 0\n",
    "        RHS[ni,:] = 0\n",
    "        LHS[ni,ni] = 1\n",
    "    LHSbc = LHS\n",
    "    RHSbc = RHS\n",
    "    return LHSbc, RHSbc\n",
    "\n",
    "# function [L,M] = BLOperatorsStabilityNew(Redelta,kx,kz,y,D1,D2,U0,dU0)\n",
    "\n",
    "# %TODO: Convert Rex to whatever Re we should use\n",
    "# %Each entry of L should have units of U/L := 1/T\n",
    "# % For the Blasius version, choose U to be freestream, and L to be delta*\n",
    "\n",
    "\n",
    "# % A few basic matrices to improve readability\n",
    "# I   = eye(length(y)); %note that y isn't used for anything else\n",
    "# Z   = zeros(length(y));\n",
    "\n",
    "# % Calculate mean shear\n",
    "# %dU0 = D1*U0;\n",
    "# U0 = diag(U0);\n",
    "# dU0 = diag(dU0);\n",
    "\n",
    "# % Create important block components\n",
    "# ikU0 = 1i*kx*U0;\n",
    "# % Laplacian \n",
    "# LAP  = -(kx^2)*I - (kz^2)*I + D2;\n",
    "        \n",
    "# % Block matrix L representing linearized NS equations\n",
    "# % Set up the operators based on symmetry\n",
    "# Re = Redelta;\n",
    "# % The last column is the pressure gradient, last row is continuity\n",
    "#         L1 = [-ikU0+LAP/Re, -dU0         , Z           , -1i*kx*I]; %u (ax.)\n",
    "#         L2 = [Z            , -ikU0+LAP/Re, Z           ,     -D1]; %v (rad.)\n",
    "#         L3 = [Z            , Z            ,-ikU0+LAP/Re, -1i*kz*I]; %w (az.)\n",
    "#         L4 = [-1i*kx*I     ,-D1          ,-1i*kz*I     ,        Z]; %contin.\n",
    "\n",
    "#         L  = [L1; L2; L3; L4];\n",
    "\n",
    "# % Mass Matrix\n",
    "# M = [I Z Z Z; Z I Z Z; Z Z I Z; Z Z Z Z]; %changed!!!\n",
    "# end\n",
    "\n",
    "def BLOperatorsStabilityNew(Redelta,kx,kz,y,D1,D2,U0,dU0):\n",
    "    import numpy as np\n",
    "    I = np.eye(len(y))\n",
    "    Z = np.zeros(len(y))\n",
    "    \n",
    "import numpy as np\n",
    "\n",
    "np.diag(1)"
   ]
  },
  {
   "cell_type": "code",
   "execution_count": 43,
   "id": "94222604",
   "metadata": {},
   "outputs": [
    {
     "name": "stdout",
     "output_type": "stream",
     "text": [
      "72.02572563247857\n"
     ]
    },
    {
     "data": {
      "image/png": "[encoded data removed]",
      "text/plain": [
       "<Figure size 432x288 with 1 Axes>"
      ]
     },
     "metadata": {
      "needs_background": "light"
     },
     "output_type": "display_data"
    },
    {
     "data": {
      "image/png": "[encoded data removed]",
      "text/plain": [
       "<Figure size 432x288 with 1 Axes>"
      ]
     },
     "metadata": {
      "needs_background": "light"
     },
     "output_type": "display_data"
    },
    {
     "data": {
      "image/png": "[encoded data removed]",
      "text/plain": [
       "<Figure size 360x360 with 1 Axes>"
      ]
     },
     "metadata": {
      "needs_background": "light"
     },
     "output_type": "display_data"
    }
   ],
   "source": [
    "# ERA Implementation\n",
    "\n",
    "import control.matlab\n",
    "import random\n",
    "from scipy import signal\n",
    "from scipy import io\n",
    "from scipy import linalg as la\n",
    "from matplotlib import pyplot as plt\n",
    "\n",
    "def era(YY,m,n,nin,nout,r):\n",
    "    from scipy import linalg as la\n",
    "    import numpy as np\n",
    "    Dr = np.zeros([nout,nin])\n",
    "    Y  = np.zeros([nout,nin,len(YY[0,0,:])-1])\n",
    "    for i in range(nout):\n",
    "        for j in range(nin):\n",
    "            Dr[i,j] = YY[i,j,0]\n",
    "            Y[i,j,:] = YY[i,j,1:]\n",
    "            \n",
    "    assert(len(Y[:,0,0])==nout)\n",
    "    assert(len(Y[0,:,0])==nin)\n",
    "    assert(len(Y[0,0,:])>=m+n)\n",
    "    \n",
    "    H = np.zeros([m,n])\n",
    "    H2 = np.zeros([m,n])\n",
    "    \n",
    "    \n",
    "    for i in range(m):\n",
    "        for j in range(n):\n",
    "            for Q in range(nout):\n",
    "                for P in range(nin):\n",
    "                    H[nout*i-nout+Q+1,nin*j-nin+P+1] = Y[Q,P,i+j]\n",
    "                    H2[nout*i-nout+Q+1,nin*j-nin+P+1] = Y[Q,P,i+j+1]\n",
    "    [U,S,V] = la.svd(H,full_matrices=False)\n",
    "    V = V.T\n",
    "    Sm = np.eye(len(S))*S\n",
    "    Sigma = Sm[0:r,0:r]\n",
    "    Ur = U[:,:r]\n",
    "    Vr = V[:,:r]\n",
    "    Ar = np.dot(la.inv(Sigma)**.5,np.dot(Ur.T,np.dot(H2,np.dot(Vr,la.inv((Sigma))**.5))))\n",
    "    Br = np.dot((Sigma**.5),np.dot(Ur.T,H[:,0:nin]))\n",
    "    Cr = (np.dot(H[:nout,:],np.dot(Vr, Sigma**(0.5))))\n",
    "    HSVs = S[0:r]\n",
    "    return Ar,Br,Cr,Dr,HSVs\n",
    "    \n",
    "nInputs = 1\n",
    "nOutputs = 1\n",
    "start_index = 2001\n",
    "y = CL[start_index:]\n",
    "nStates = 5\n",
    "t = time[start_index:]\n",
    "t = t - t[0]\n",
    "dt = t[1]-t[0]\n",
    "nt = len(t)\n",
    "\n",
    "plt.figure()\n",
    "plt.plot(t,y)\n",
    "\n",
    "\n",
    "NumberTimeShifts = 5*nStates\n",
    "NumberSnaps = nt-NumberTimeShifts-1\n",
    "r = nStates\n",
    "YY = np.zeros([1,1,len(y)])\n",
    "YY[0,0,:] = y\n",
    "[Ar,Br,Cr,Dr,HSVs] = era(YY,NumberTimeShifts,NumberSnaps,nInputs, nOutputs, r)\n",
    "\n",
    "sys2 = control.ss(Ar,Br,Cr*dt,Dr*dt,dt)\n",
    "y2,t2 = control.matlab.impulse(sys2,t)\n",
    "\n",
    "plt.figure()\n",
    "plt.plot(t2,y2,'r-',t,y,'b--')\n",
    "\n",
    "\n",
    "plt.figure(figsize = [5,5])\n",
    "xc = np.linspace(-np.pi,np.pi,101)\n",
    "[vals2,vecs2] = la.eig(sys2.A)\n",
    "plt.plot(np.real(vals2),np.imag(vals2),'b*')\n",
    "plt.plot(np.cos(xc),np.sin(xc))\n",
    "plt.xlim([-1,1])\n",
    "plt.ylim([-1,1])\n",
    "\n",
    "print(np.max(y2)/np.max(y))\n",
    "\n",
    "save_dict = {\"A\": Ar, \"B\": Br, \"C\": Cr, \"D\": Dr, \"dt\": dt}\n",
    "# print(Ar)\n",
    "# io.savemat('ss_system.mat',save_dict)\n"
   ]
  },
  {
   "cell_type": "code",
   "execution_count": 18,
   "id": "ac714957",
   "metadata": {},
   "outputs": [],
   "source": [
    "import pyvista as vtki\n",
    "\n"
   ]
  },
  {
   "cell_type": "code",
   "execution_count": 7,
   "id": "d559cc75",
   "metadata": {},
   "outputs": [
    {
     "name": "stdout",
     "output_type": "stream",
     "text": [
      "0.5\n",
      "False\n"
     ]
    }
   ],
   "source": [
    "import os\n",
    "import numpy as np\n",
    "import matplotlib.pyplot as plt\n",
    "\n",
    "directory = '/media/james/Data/james/completed_cases/coanda_airfoils/era/imp_std_2/'\n",
    "cases = directory\n",
    "data_dict = {}\n",
    "\n",
    "\n",
    "forces, moments, time = retrieve_lift(directory)\n"
   ]
  },
  {
   "cell_type": "code",
   "execution_count": 7,
   "id": "dd2ca334",
   "metadata": {
    "scrolled": true
   },
   "outputs": [
    {
     "ename": "KeyError",
     "evalue": "'0.0001'",
     "output_type": "error",
     "traceback": [
      "\u001b[0;31m---------------------------------------------------------------------------\u001b[0m",
      "\u001b[0;31mKeyError\u001b[0m                                  Traceback (most recent call last)",
      "Input \u001b[0;32mIn [7]\u001b[0m, in \u001b[0;36m<module>\u001b[0;34m\u001b[0m\n\u001b[1;32m     26\u001b[0m amp \u001b[38;5;241m=\u001b[39m np\u001b[38;5;241m.\u001b[39marray([])\n\u001b[1;32m     27\u001b[0m \u001b[38;5;28;01mfor\u001b[39;00m i \u001b[38;5;129;01min\u001b[39;00m \u001b[38;5;28mrange\u001b[39m(\u001b[38;5;28mlen\u001b[39m(folders)):    \n\u001b[1;32m     28\u001b[0m \u001b[38;5;66;03m#     plt.figure()\u001b[39;00m\n\u001b[0;32m---> 29\u001b[0m     forces, moments, time \u001b[38;5;241m=\u001b[39m \u001b[43mdata_dict\u001b[49m\u001b[43m[\u001b[49m\u001b[43mfolders\u001b[49m\u001b[43m[\u001b[49m\u001b[43mi\u001b[49m\u001b[43m]\u001b[49m\u001b[43m]\u001b[49m\n\u001b[1;32m     30\u001b[0m     freq \u001b[38;5;241m=\u001b[39m sorted_nums[i]\n\u001b[1;32m     31\u001b[0m     k \u001b[38;5;241m=\u001b[39m np\u001b[38;5;241m.\u001b[39mround(freq \u001b[38;5;241m*\u001b[39m np\u001b[38;5;241m.\u001b[39mpi \u001b[38;5;241m*\u001b[39m \u001b[38;5;241m0.3\u001b[39m \u001b[38;5;241m/\u001b[39m \u001b[38;5;241m20\u001b[39m,\u001b[38;5;241m3\u001b[39m)\n",
      "\u001b[0;31mKeyError\u001b[0m: '0.0001'"
     ]
    }
   ],
   "source": [
    "import os\n",
    "from scipy import signal\n",
    "import numpy as np\n",
    "import matplotlib.pyplot as plt\n",
    "\n",
    "%matplotlib notebook\n",
    "N_startup = 50\n",
    "folders = os.listdir(directory)\n",
    "\n",
    "numfold = list([])\n",
    "goodind = []\n",
    "for i in range(len(folders)):\n",
    "    current = folders[i]\n",
    "    if check_float(current[:-2]):\n",
    "        numfold.append(float(current[:-2]))\n",
    "        goodind.append(i)\n",
    "\n",
    "    else:\n",
    "        pass\n",
    "folders= [folders[k] for k in goodind]\n",
    "numfold = np.array(numfold)\n",
    "sorted_nums = np.sort(numfold)\n",
    "sortind = np.argsort(numfold)\n",
    "folders = [folders[i] for i in sortind]\n",
    "timedelay = np.array([])\n",
    "amp = np.array([])\n",
    "for i in range(len(folders)):    \n",
    "#     plt.figure()\n",
    "    forces, moments, time = data_dict[folders[i]]\n",
    "    freq = sorted_nums[i]\n",
    "    k = np.round(freq * np.pi * 0.3 / 20,3)\n",
    "    Re = np.around(0.3 * 1.225 * 20 / 1.82e-5,decimals=-3)\n",
    "    Cmu = np.round(0.006 * 190 / (.3 * .5 * 1.225 * 20**2 * .61),2)\n",
    "    title = \"Actuation Case:  $Re = {}$,  $k = {}$,  $C_\\mu = {}$\".format(int(Re),k,Cmu)\n",
    "    system_input = np.sin(freq * 2 * np.pi * time)\n",
    "    CL = forces / (0.5 * 1. * 20**2 * 0.61 * 0.3)\n",
    "    CM = moments / (0.5 * 1. * 20**2 * 0.61 * 0.3 ** 2)\n",
    "    amp = np.append(amp,np.max(CL))\n",
    "    corr = signal.correlate(CL[:-1,1],system_input)\n",
    "    nsamples = np.size(time)\n",
    "    dt = np.linspace(-time[-1],time[-1],2*nsamples-1)\n",
    "    timedelay = np.append(timedelay,dt[np.argmax(corr)])\n",
    "    plt.figure()\n",
    "    plt.plot(time,CM[:-1,2],time,CL[:-1,1])\n",
    "    plt.xlabel('Time (s)')\n",
    "    plt.ylabel('$C_L$')\n",
    "    plt.title(title)\n",
    "    \n",
    "phaseshift = timedelay * 360 * sorted_nums\n",
    "    \n",
    "plt.figure()\n",
    "plt.plot(sorted_nums,phaseshift,'*')\n",
    "plt.xscale('log')\n",
    "plt.title('Response Phase vs. Input Frequency')\n",
    "plt.ylabel('Phase (Deg)')\n",
    "plt.xlabel('Frequency (Hz)')\n",
    "\n",
    "\n",
    "plt.figure()\n",
    "plt.loglog(sorted_nums,amp,'*')\n",
    "plt.title('Response Amplitude vs. Input Frequency')\n",
    "plt.ylabel('$C_L$ Amplitude')\n",
    "plt.xlabel('Frequency (Hz)')"
   ]
  }
 ],
 "metadata": {
  "kernelspec": {
   "display_name": "Python 3",
   "language": "python",
   "name": "python3"
  },
  "language_info": {
   "codemirror_mode": {
    "name": "ipython",
    "version": 3
   },
   "file_extension": ".py",
   "mimetype": "text/x-python",
   "name": "python",
   "nbconvert_exporter": "python",
   "pygments_lexer": "ipython3",
   "version": "3.8.10"
  }
 },
 "nbformat": 4,
 "nbformat_minor": 5
}
